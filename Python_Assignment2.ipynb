{
 "cells": [
  {
   "cell_type": "markdown",
   "metadata": {},
   "source": [
    "## Assignment 2 Pandas\n"
   ]
  },
  {
   "cell_type": "markdown",
   "metadata": {},
   "source": [
    "### Reading Dataset"
   ]
  },
  {
   "cell_type": "code",
   "execution_count": 30,
   "metadata": {},
   "outputs": [],
   "source": [
    "import pandas as pd\n",
    "url=\"https://raw.githubusercontent.com/guipsamora/pandas_exercises/master/06_Stats/US_Baby_Names/US_Baby_Names_right.csv\"\n",
    "csv_data=pd.read_csv(url)\n"
   ]
  },
  {
   "cell_type": "markdown",
   "metadata": {},
   "source": [
    "### 1. Delete Unnamed Columns"
   ]
  },
  {
   "cell_type": "code",
   "execution_count": 10,
   "metadata": {},
   "outputs": [],
   "source": [
    "csv_data.drop(csv_data.columns[csv_data.columns.str.contains('unnamed',case = False)],axis = 1,inplace=True)"
   ]
  },
  {
   "cell_type": "code",
   "execution_count": 11,
   "metadata": {},
   "outputs": [
    {
     "data": {
      "text/html": [
       "<div>\n",
       "<style scoped>\n",
       "    .dataframe tbody tr th:only-of-type {\n",
       "        vertical-align: middle;\n",
       "    }\n",
       "\n",
       "    .dataframe tbody tr th {\n",
       "        vertical-align: top;\n",
       "    }\n",
       "\n",
       "    .dataframe thead th {\n",
       "        text-align: right;\n",
       "    }\n",
       "</style>\n",
       "<table border=\"1\" class=\"dataframe\">\n",
       "  <thead>\n",
       "    <tr style=\"text-align: right;\">\n",
       "      <th></th>\n",
       "      <th>Id</th>\n",
       "      <th>Name</th>\n",
       "      <th>Year</th>\n",
       "      <th>Gender</th>\n",
       "      <th>State</th>\n",
       "      <th>Count</th>\n",
       "    </tr>\n",
       "  </thead>\n",
       "  <tbody>\n",
       "    <tr>\n",
       "      <th>0</th>\n",
       "      <td>11350</td>\n",
       "      <td>Emma</td>\n",
       "      <td>2004</td>\n",
       "      <td>F</td>\n",
       "      <td>AK</td>\n",
       "      <td>62</td>\n",
       "    </tr>\n",
       "    <tr>\n",
       "      <th>1</th>\n",
       "      <td>11351</td>\n",
       "      <td>Madison</td>\n",
       "      <td>2004</td>\n",
       "      <td>F</td>\n",
       "      <td>AK</td>\n",
       "      <td>48</td>\n",
       "    </tr>\n",
       "    <tr>\n",
       "      <th>2</th>\n",
       "      <td>11352</td>\n",
       "      <td>Hannah</td>\n",
       "      <td>2004</td>\n",
       "      <td>F</td>\n",
       "      <td>AK</td>\n",
       "      <td>46</td>\n",
       "    </tr>\n",
       "    <tr>\n",
       "      <th>3</th>\n",
       "      <td>11353</td>\n",
       "      <td>Grace</td>\n",
       "      <td>2004</td>\n",
       "      <td>F</td>\n",
       "      <td>AK</td>\n",
       "      <td>44</td>\n",
       "    </tr>\n",
       "    <tr>\n",
       "      <th>4</th>\n",
       "      <td>11354</td>\n",
       "      <td>Emily</td>\n",
       "      <td>2004</td>\n",
       "      <td>F</td>\n",
       "      <td>AK</td>\n",
       "      <td>41</td>\n",
       "    </tr>\n",
       "  </tbody>\n",
       "</table>\n",
       "</div>"
      ],
      "text/plain": [
       "      Id     Name  Year Gender State  Count\n",
       "0  11350     Emma  2004      F    AK     62\n",
       "1  11351  Madison  2004      F    AK     48\n",
       "2  11352   Hannah  2004      F    AK     46\n",
       "3  11353    Grace  2004      F    AK     44\n",
       "4  11354    Emily  2004      F    AK     41"
      ]
     },
     "execution_count": 11,
     "metadata": {},
     "output_type": "execute_result"
    }
   ],
   "source": [
    "csv_data.head()"
   ]
  },
  {
   "cell_type": "markdown",
   "metadata": {},
   "source": [
    "### 2. Distribution of Male and Female"
   ]
  },
  {
   "cell_type": "code",
   "execution_count": 41,
   "metadata": {},
   "outputs": [
    {
     "data": {
      "text/plain": [
       "Gender\n",
       "F    16380293\n",
       "M    19041199\n",
       "Name: Count, dtype: int64"
      ]
     },
     "execution_count": 41,
     "metadata": {},
     "output_type": "execute_result"
    }
   ],
   "source": [
    "data_distribution=csv_data.groupby('Gender').sum()['Count']\n",
    "data_distribution"
   ]
  },
  {
   "cell_type": "code",
   "execution_count": 42,
   "metadata": {},
   "outputs": [
    {
     "data": {
      "text/plain": [
       "<matplotlib.axes._subplots.AxesSubplot at 0x1ed9f1a74e0>"
      ]
     },
     "execution_count": 42,
     "metadata": {},
     "output_type": "execute_result"
    },
    {
     "data": {
      "image/png": "[encoded data removed]",
      "text/plain": [
       "<Figure size 432x288 with 1 Axes>"
      ]
     },
     "metadata": {},
     "output_type": "display_data"
    }
   ],
   "source": [
    "data_distribution.plot(kind='bar')"
   ]
  },
  {
   "cell_type": "markdown",
   "metadata": {},
   "source": [
    "### 3. Top 5 Preffered Names"
   ]
  },
  {
   "cell_type": "code",
   "execution_count": 45,
   "metadata": {},
   "outputs": [],
   "source": [
    "name_grp=csv_data.groupby('Name').sum()['Count']"
   ]
  },
  {
   "cell_type": "code",
   "execution_count": 46,
   "metadata": {},
   "outputs": [
    {
     "data": {
      "text/plain": [
       "Name\n",
       "Jacob       242874\n",
       "Emma        214852\n",
       "Michael     214405\n",
       "Ethan       209277\n",
       "Isabella    204798\n",
       "Name: Count, dtype: int64"
      ]
     },
     "execution_count": 46,
     "metadata": {},
     "output_type": "execute_result"
    }
   ],
   "source": [
    "name_grp.sort_values(ascending=False).head()"
   ]
  },
  {
   "cell_type": "markdown",
   "metadata": {},
   "source": [
    "### 4. Median name occurances"
   ]
  },
  {
   "cell_type": "code",
   "execution_count": 48,
   "metadata": {},
   "outputs": [],
   "source": [
    "median_name=csv_data.groupby('Name').median()['Count']"
   ]
  },
  {
   "cell_type": "code",
   "execution_count": 49,
   "metadata": {},
   "outputs": [
    {
     "data": {
      "text/plain": [
       "Name\n",
       "Aaban          6.0\n",
       "Aadan          5.5\n",
       "Aadarsh        5.0\n",
       "Aaden         10.0\n",
       "Aadhav         6.0\n",
       "Aadhya         8.0\n",
       "Aadi           7.0\n",
       "Aadin          5.0\n",
       "Aadit          6.0\n",
       "Aaditya        6.0\n",
       "Aadya          7.0\n",
       "Aadyn          6.0\n",
       "Aahan          7.0\n",
       "Aahana         7.0\n",
       "Aahil          7.0\n",
       "Aahna          7.0\n",
       "Aaiden         8.5\n",
       "Aaima          5.0\n",
       "Aakash         6.0\n",
       "Aalaya         5.0\n",
       "Aalayah        5.0\n",
       "Aaleah         5.0\n",
       "Aaleyah        6.0\n",
       "Aalia          5.0\n",
       "Aaliah         9.0\n",
       "Aalijah        5.0\n",
       "Aaliya         6.0\n",
       "Aaliyah       58.0\n",
       "Aaliyha        5.0\n",
       "Aalyah         7.5\n",
       "              ... \n",
       "Zyir           5.0\n",
       "Zyire          5.0\n",
       "Zykeria        9.0\n",
       "Zykeriah       5.0\n",
       "Zykerria       7.0\n",
       "Zykia          7.5\n",
       "Zykierra       5.0\n",
       "Zykira         7.0\n",
       "Zykiria        5.5\n",
       "Zyla           6.0\n",
       "Zylah          6.0\n",
       "Zylan          5.5\n",
       "Zylen          6.0\n",
       "Zyler          6.0\n",
       "Zymari         5.0\n",
       "Zymarion       5.0\n",
       "Zymere         8.0\n",
       "Zymier         5.0\n",
       "Zymiere        5.0\n",
       "Zymir          7.0\n",
       "Zymire         5.0\n",
       "Zyon           7.5\n",
       "Zyonna         5.0\n",
       "Zyquan         6.0\n",
       "Zyquavious     6.0\n",
       "Zyra           6.0\n",
       "Zyrah          5.5\n",
       "Zyren          6.0\n",
       "Zyria          6.0\n",
       "Zyriah         6.0\n",
       "Name: Count, Length: 17632, dtype: float64"
      ]
     },
     "execution_count": 49,
     "metadata": {},
     "output_type": "execute_result"
    }
   ],
   "source": [
    "median_name"
   ]
  },
  {
   "cell_type": "markdown",
   "metadata": {},
   "source": [
    "### 5. Male and Female born count by State"
   ]
  },
  {
   "cell_type": "code",
   "execution_count": 37,
   "metadata": {},
   "outputs": [],
   "source": [
    "gender_state_grp=csv_data.groupby(['State','Gender']).sum()['Count']"
   ]
  },
  {
   "cell_type": "code",
   "execution_count": 39,
   "metadata": {},
   "outputs": [
    {
     "data": {
      "text/plain": [
       "State  Gender\n",
       "AK     F           26250\n",
       "       M           37399\n",
       "AL     F          215308\n",
       "       M          260114\n",
       "AR     F          129712\n",
       "       M          162947\n",
       "AZ     F          368567\n",
       "       M          439691\n",
       "CA     F         2414063\n",
       "       M         2670584\n",
       "CO     F          260805\n",
       "       M          313425\n",
       "CT     F          141350\n",
       "       M          171397\n",
       "DC     F           35276\n",
       "       M           47228\n",
       "DE     F           31312\n",
       "       M           41748\n",
       "FL     F          915422\n",
       "       M         1060957\n",
       "GA     F          549637\n",
       "       M          635531\n",
       "HI     F           37279\n",
       "       M           53127\n",
       "IA     F          144764\n",
       "       M          174009\n",
       "ID     F           72808\n",
       "       M           94320\n",
       "IL     F          695312\n",
       "       M          791679\n",
       "                  ...   \n",
       "OK     F          184967\n",
       "       M          228613\n",
       "OR     F          172111\n",
       "       M          209445\n",
       "PA     F          593382\n",
       "       M          682709\n",
       "RI     F           35560\n",
       "       M           47939\n",
       "SC     F          197917\n",
       "       M          237442\n",
       "SD     F           34104\n",
       "       M           45443\n",
       "TN     F          336487\n",
       "       M          398615\n",
       "TX     F         1786281\n",
       "       M         2005394\n",
       "UT     F          202892\n",
       "       M          245324\n",
       "VA     F          405503\n",
       "       M          466873\n",
       "VT     F           15079\n",
       "       M           21353\n",
       "WA     F          334944\n",
       "       M          395377\n",
       "WI     F          264921\n",
       "       M          311758\n",
       "WV     F           73800\n",
       "       M           93557\n",
       "WY     F           14107\n",
       "       M           21912\n",
       "Name: Count, Length: 102, dtype: int64"
      ]
     },
     "execution_count": 39,
     "metadata": {},
     "output_type": "execute_result"
    }
   ],
   "source": [
    "gender_state_grp"
   ]
  },
  {
   "cell_type": "code",
   "execution_count": null,
   "metadata": {},
   "outputs": [],
   "source": []
  }
 ],
 "metadata": {
  "kernelspec": {
   "display_name": "Python 3",
   "language": "python",
   "name": "python3"
  },
  "language_info": {
   "codemirror_mode": {
    "name": "ipython",
    "version": 3
   },
   "file_extension": ".py",
   "mimetype": "text/x-python",
   "name": "python",
   "nbconvert_exporter": "python",
   "pygments_lexer": "ipython3",
   "version": "3.6.5"
  }
 },
 "nbformat": 4,
 "nbformat_minor": 2
}
